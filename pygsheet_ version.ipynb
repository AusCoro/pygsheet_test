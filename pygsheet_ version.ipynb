{
 "cells": [
  {
   "cell_type": "code",
   "execution_count": 29,
   "id": "2ba45cd7",
   "metadata": {},
   "outputs": [],
   "source": [
    "import pandas as pd\n",
    "import pygsheets\n",
    "import requests\n",
    "import datetime"
   ]
  },
  {
   "cell_type": "code",
   "execution_count": 30,
   "id": "95abd7d8",
   "metadata": {},
   "outputs": [
    {
     "name": "stdout",
     "output_type": "stream",
     "text": [
      "                 Concept  Quantity  Amount        Date        Category\n",
      "0        Office Supplies         5   250.0  2025-07-01  Administration\n",
      "1        Coffee Purchase         3    90.0  2025-07-02          Pantry\n",
      "2            Printer Ink         2   150.0  2025-07-03  Administration\n",
      "3          Internet Bill         1   600.0  2025-07-04       Utilities\n",
      "4     Freelancer Payment         1  5000.0  2025-07-05        Services\n",
      "5              Notebooks        10   120.0  2025-07-06      Stationery\n",
      "6       Electricity Bill         1  1200.0  2025-07-07       Utilities\n",
      "7       Software License         1  2000.0  2025-07-08              IT\n",
      "8      Cleaning Products         8   320.0  2025-07-09     Maintenance\n",
      "9           Facebook Ads         1  1000.0  2025-07-10       Marketing\n",
      "10        Employee Bonus         1  3000.0  2025-07-11         Payroll\n",
      "11  Travel Reimbursement         1   950.0  2025-07-12              HR\n",
      "12            USB Drives         6   180.0  2025-07-13              IT\n",
      "13                Snacks        15   375.0  2025-07-14          Pantry\n",
      "14            Team Lunch         1   850.0  2025-07-15              HR\n",
      "15       Air Conditioner         1  6500.0  2025-07-16     Maintenance\n",
      "16           Paper Reams        12   240.0  2025-07-17      Stationery\n",
      "17     Zoom Subscription         1   500.0  2025-07-18              IT\n",
      "18    Graphic Design Svc         1  2200.0  2025-07-19       Marketing\n",
      "19    Replacement Chairs         4  1400.0  2025-07-20       Furniture\n"
     ]
    }
   ],
   "source": [
    "# Authorize the pygsheets client using a service account\n",
    "gc = pygsheets.authorize(service_file='credentials.json')\n",
    "\n",
    "# Open the first sheet of the Google Spreadsheet\n",
    "sh = gc.open('datos')\n",
    "wks = sh[0]\n",
    "\n",
    "# Get all records as a DataFrame\n",
    "df = wks.get_as_df()\n",
    "\n",
    "# Show the table\n",
    "print(df)\n"
   ]
  },
  {
   "cell_type": "markdown",
   "id": "0b3bb7d7",
   "metadata": {},
   "source": [
    "## Insert from other sheet"
   ]
  },
  {
   "cell_type": "code",
   "execution_count": 31,
   "id": "dae20426",
   "metadata": {},
   "outputs": [
    {
     "name": "stdout",
     "output_type": "stream",
     "text": [
      "Copia de datos\n",
      "   Concept  Quantity  Amount        Date        Category\n",
      "0     Juan         5   250.0  2025-07-01  Administration\n",
      "1     Juan         3    90.0  2025-07-02          Pantry\n",
      "2     Juan         2   150.0  2025-07-03  Administration\n",
      "3     Juan         1   600.0  2025-07-04       Utilities\n",
      "4     Juan         1  5000.0  2025-07-05        Services\n",
      "5     Juan        10   120.0  2025-07-06      Stationery\n",
      "6     Juan         1  1200.0  2025-07-07       Utilities\n",
      "7     Juan         1  2000.0  2025-07-08              IT\n",
      "8     Juan         8   320.0  2025-07-09     Maintenance\n",
      "9     Juan         1  1000.0  2025-07-10       Marketing\n",
      "10    Juan         1  3000.0  2025-07-11         Payroll\n",
      "11    Juan         1   950.0  2025-07-12              HR\n",
      "12    Juan         6   180.0  2025-07-13              IT\n",
      "13    Juan        15   375.0  2025-07-14          Pantry\n",
      "14    Juan         1   850.0  2025-07-15              HR\n",
      "15    Juan         1  6500.0  2025-07-16     Maintenance\n",
      "16    Juan        12   240.0  2025-07-17      Stationery\n",
      "17    Juan         1   500.0  2025-07-18              IT\n",
      "18    Juan         1  2200.0  2025-07-19       Marketing\n",
      "19    Juan         4  1400.0  2025-07-20       Furniture\n"
     ]
    }
   ],
   "source": [
    "sh2 = gc.open('Copia de datos')\n",
    "wks2 = sh2[0]\n",
    "\n",
    "# Get all records as a DataFrame\n",
    "df2 = wks2.get_as_df()\n",
    "\n",
    "# Show the table\n",
    "print(sh2.title)\n",
    "print(df2)\n",
    "\n"
   ]
  },
  {
   "cell_type": "code",
   "execution_count": 32,
   "id": "fb24ab2e",
   "metadata": {},
   "outputs": [
    {
     "data": {
      "text/plain": [
       "{'tableRange': <GridRange 'datos.csv'!A1:E21>,\n",
       " 'updates': {'updatedRange': <GridRange 'datos.csv'!A22:E26>,\n",
       "  'updatedCells': 25,\n",
       "  'updatedColumns': 5,\n",
       "  'updatedRows': 5}}"
      ]
     },
     "execution_count": 32,
     "metadata": {},
     "output_type": "execute_result"
    }
   ],
   "source": [
    "# Insert the first N rows of df2 into sh\n",
    "N = 5  # Number of rows to insert\n",
    "rows_to_insert = df2.head(N).values.tolist()\n",
    "\n",
    "# Insert the rows into the destination sheet (sh)\n",
    "# You can choose the row to insert at; here it inserts after the last existing row\n",
    "wks.append_table(rows_to_insert, start='A1', end=None, dimension='ROWS', overwrite=False)"
   ]
  },
  {
   "cell_type": "code",
   "execution_count": 33,
   "id": "58bfdf06",
   "metadata": {},
   "outputs": [
    {
     "name": "stdout",
     "output_type": "stream",
     "text": [
      "                 Concept  Quantity  Amount        Date        Category\n",
      "0        Office Supplies         5   250.0  2025-07-01  Administration\n",
      "1        Coffee Purchase         3    90.0  2025-07-02          Pantry\n",
      "2            Printer Ink         2   150.0  2025-07-03  Administration\n",
      "3          Internet Bill         1   600.0  2025-07-04       Utilities\n",
      "4     Freelancer Payment         1  5000.0  2025-07-05        Services\n",
      "5              Notebooks        10   120.0  2025-07-06      Stationery\n",
      "6       Electricity Bill         1  1200.0  2025-07-07       Utilities\n",
      "7       Software License         1  2000.0  2025-07-08              IT\n",
      "8      Cleaning Products         8   320.0  2025-07-09     Maintenance\n",
      "9           Facebook Ads         1  1000.0  2025-07-10       Marketing\n",
      "10        Employee Bonus         1  3000.0  2025-07-11         Payroll\n",
      "11  Travel Reimbursement         1   950.0  2025-07-12              HR\n",
      "12            USB Drives         6   180.0  2025-07-13              IT\n",
      "13                Snacks        15   375.0  2025-07-14          Pantry\n",
      "14            Team Lunch         1   850.0  2025-07-15              HR\n",
      "15       Air Conditioner         1  6500.0  2025-07-16     Maintenance\n",
      "16           Paper Reams        12   240.0  2025-07-17      Stationery\n",
      "17     Zoom Subscription         1   500.0  2025-07-18              IT\n",
      "18    Graphic Design Svc         1  2200.0  2025-07-19       Marketing\n",
      "19    Replacement Chairs         4  1400.0  2025-07-20       Furniture\n",
      "20                  Juan         5   250.0  2025-07-01  Administration\n",
      "21                  Juan         3    90.0  2025-07-02          Pantry\n",
      "22                  Juan         2   150.0  2025-07-03  Administration\n",
      "23                  Juan         1   600.0  2025-07-04       Utilities\n",
      "24                  Juan         1  5000.0  2025-07-05        Services\n"
     ]
    }
   ],
   "source": [
    "print(wks.get_as_df())"
   ]
  },
  {
   "cell_type": "markdown",
   "id": "69434d21",
   "metadata": {},
   "source": [
    "## Insert from an external API"
   ]
  },
  {
   "cell_type": "code",
   "execution_count": 34,
   "id": "4a3a8614",
   "metadata": {},
   "outputs": [],
   "source": [
    "# Get data from an external API\n",
    "url = 'https://fakestoreapi.com/products'\n",
    "response = requests.get(url)\n",
    "products = response.json()"
   ]
  },
  {
   "cell_type": "code",
   "execution_count": 35,
   "id": "874be247",
   "metadata": {},
   "outputs": [
    {
     "name": "stdout",
     "output_type": "stream",
     "text": [
      "Data from external API:\n",
      "    id                                              title   price  \\\n",
      "0    1  Fjallraven - Foldsack No. 1 Backpack, Fits 15 ...  109.95   \n",
      "1    2             Mens Casual Premium Slim Fit T-Shirts    22.30   \n",
      "2    3                                 Mens Cotton Jacket   55.99   \n",
      "3    4                               Mens Casual Slim Fit   15.99   \n",
      "4    5  John Hardy Women's Legends Naga Gold & Silver ...  695.00   \n",
      "5    6                       Solid Gold Petite Micropave   168.00   \n",
      "6    7                         White Gold Plated Princess    9.99   \n",
      "7    8  Pierced Owl Rose Gold Plated Stainless Steel D...   10.99   \n",
      "8    9  WD 2TB Elements Portable External Hard Drive -...   64.00   \n",
      "9   10  SanDisk SSD PLUS 1TB Internal SSD - SATA III 6...  109.00   \n",
      "10  11  Silicon Power 256GB SSD 3D NAND A55 SLC Cache ...  109.00   \n",
      "11  12  WD 4TB Gaming Drive Works with Playstation 4 P...  114.00   \n",
      "12  13  Acer SB220Q bi 21.5 inches Full HD (1920 x 108...  599.00   \n",
      "13  14  Samsung 49-Inch CHG90 144Hz Curved Gaming Moni...  999.99   \n",
      "14  15  BIYLACLESEN Women's 3-in-1 Snowboard Jacket Wi...   56.99   \n",
      "15  16  Lock and Love Women's Removable Hooded Faux Le...   29.95   \n",
      "16  17  Rain Jacket Women Windbreaker Striped Climbing...   39.99   \n",
      "17  18        MBJ Women's Solid Short Sleeve Boat Neck V     9.85   \n",
      "18  19                 Opna Women's Short Sleeve Moisture    7.95   \n",
      "19  20         DANVOUY Womens T Shirt Casual Cotton Short   12.99   \n",
      "\n",
      "                                          description          category  \\\n",
      "0   Your perfect pack for everyday use and walks i...    men's clothing   \n",
      "1   Slim-fitting style, contrast raglan long sleev...    men's clothing   \n",
      "2   great outerwear jackets for Spring/Autumn/Wint...    men's clothing   \n",
      "3   The color could be slightly different between ...    men's clothing   \n",
      "4   From our Legends Collection, the Naga was insp...          jewelery   \n",
      "5   Satisfaction Guaranteed. Return or exchange an...          jewelery   \n",
      "6   Classic Created Wedding Engagement Solitaire D...          jewelery   \n",
      "7   Rose Gold Plated Double Flared Tunnel Plug Ear...          jewelery   \n",
      "8   USB 3.0 and USB 2.0 Compatibility Fast data tr...       electronics   \n",
      "9   Easy upgrade for faster boot up, shutdown, app...       electronics   \n",
      "10  3D NAND flash are applied to deliver high tran...       electronics   \n",
      "11  Expand your PS4 gaming experience, Play anywhe...       electronics   \n",
      "12  21. 5 inches Full HD (1920 x 1080) widescreen ...       electronics   \n",
      "13  49 INCH SUPER ULTRAWIDE 32:9 CURVED GAMING MON...       electronics   \n",
      "14  Note:The Jackets is US standard size, Please c...  women's clothing   \n",
      "15  100% POLYURETHANE(shell) 100% POLYESTER(lining...  women's clothing   \n",
      "16  Lightweight perfet for trip or casual wear---L...  women's clothing   \n",
      "17  95% RAYON 5% SPANDEX, Made in USA or Imported,...  women's clothing   \n",
      "18  100% Polyester, Machine wash, 100% cationic po...  women's clothing   \n",
      "19  95%Cotton,5%Spandex, Features: Casual, Short S...  women's clothing   \n",
      "\n",
      "                                                image  \\\n",
      "0   https://fakestoreapi.com/img/81fPKd-2AYL._AC_S...   \n",
      "1   https://fakestoreapi.com/img/71-3HjGNDUL._AC_S...   \n",
      "2   https://fakestoreapi.com/img/71li-ujtlUL._AC_U...   \n",
      "3   https://fakestoreapi.com/img/71YXzeOuslL._AC_U...   \n",
      "4   https://fakestoreapi.com/img/71pWzhdJNwL._AC_U...   \n",
      "5   https://fakestoreapi.com/img/61sbMiUnoGL._AC_U...   \n",
      "6   https://fakestoreapi.com/img/71YAIFU48IL._AC_U...   \n",
      "7   https://fakestoreapi.com/img/51UDEzMJVpL._AC_U...   \n",
      "8   https://fakestoreapi.com/img/61IBBVJvSDL._AC_S...   \n",
      "9   https://fakestoreapi.com/img/61U7T1koQqL._AC_S...   \n",
      "10  https://fakestoreapi.com/img/71kWymZ+c+L._AC_S...   \n",
      "11  https://fakestoreapi.com/img/61mtL65D4cL._AC_S...   \n",
      "12  https://fakestoreapi.com/img/81QpkIctqPL._AC_S...   \n",
      "13  https://fakestoreapi.com/img/81Zt42ioCgL._AC_S...   \n",
      "14  https://fakestoreapi.com/img/51Y5NI-I5jL._AC_U...   \n",
      "15  https://fakestoreapi.com/img/81XH0e8fefL._AC_U...   \n",
      "16  https://fakestoreapi.com/img/71HblAHs5xL._AC_U...   \n",
      "17  https://fakestoreapi.com/img/71z3kpMAYsL._AC_U...   \n",
      "18  https://fakestoreapi.com/img/51eg55uWmdL._AC_U...   \n",
      "19  https://fakestoreapi.com/img/61pHAEJ4NML._AC_U...   \n",
      "\n",
      "                         rating  \n",
      "0   {'rate': 3.9, 'count': 120}  \n",
      "1   {'rate': 4.1, 'count': 259}  \n",
      "2   {'rate': 4.7, 'count': 500}  \n",
      "3   {'rate': 2.1, 'count': 430}  \n",
      "4   {'rate': 4.6, 'count': 400}  \n",
      "5    {'rate': 3.9, 'count': 70}  \n",
      "6     {'rate': 3, 'count': 400}  \n",
      "7   {'rate': 1.9, 'count': 100}  \n",
      "8   {'rate': 3.3, 'count': 203}  \n",
      "9   {'rate': 2.9, 'count': 470}  \n",
      "10  {'rate': 4.8, 'count': 319}  \n",
      "11  {'rate': 4.8, 'count': 400}  \n",
      "12  {'rate': 2.9, 'count': 250}  \n",
      "13  {'rate': 2.2, 'count': 140}  \n",
      "14  {'rate': 2.6, 'count': 235}  \n",
      "15  {'rate': 2.9, 'count': 340}  \n",
      "16  {'rate': 3.8, 'count': 679}  \n",
      "17  {'rate': 4.7, 'count': 130}  \n",
      "18  {'rate': 4.5, 'count': 146}  \n",
      "19  {'rate': 3.6, 'count': 145}  \n"
     ]
    }
   ],
   "source": [
    "# Convert the products data to a DataFrame\n",
    "products_df = pd.DataFrame(products)\n",
    "\n",
    "# Show the products DataFrame\n",
    "print(\"Data from external API:\")\n",
    "print(products_df)"
   ]
  },
  {
   "cell_type": "code",
   "execution_count": 36,
   "id": "0257ba65",
   "metadata": {},
   "outputs": [],
   "source": [
    "# Get rows from the DataFrame where the price is greater than 100\n",
    "expensive_products = products_df[products_df['price'] > 100]"
   ]
  },
  {
   "cell_type": "code",
   "execution_count": 37,
   "id": "459f5539",
   "metadata": {},
   "outputs": [
    {
     "name": "stdout",
     "output_type": "stream",
     "text": [
      "Expensive products:\n",
      "    id                                              title   price  \\\n",
      "0    1  Fjallraven - Foldsack No. 1 Backpack, Fits 15 ...  109.95   \n",
      "4    5  John Hardy Women's Legends Naga Gold & Silver ...  695.00   \n",
      "5    6                       Solid Gold Petite Micropave   168.00   \n",
      "9   10  SanDisk SSD PLUS 1TB Internal SSD - SATA III 6...  109.00   \n",
      "10  11  Silicon Power 256GB SSD 3D NAND A55 SLC Cache ...  109.00   \n",
      "11  12  WD 4TB Gaming Drive Works with Playstation 4 P...  114.00   \n",
      "12  13  Acer SB220Q bi 21.5 inches Full HD (1920 x 108...  599.00   \n",
      "13  14  Samsung 49-Inch CHG90 144Hz Curved Gaming Moni...  999.99   \n",
      "\n",
      "                                          description        category  \\\n",
      "0   Your perfect pack for everyday use and walks i...  men's clothing   \n",
      "4   From our Legends Collection, the Naga was insp...        jewelery   \n",
      "5   Satisfaction Guaranteed. Return or exchange an...        jewelery   \n",
      "9   Easy upgrade for faster boot up, shutdown, app...     electronics   \n",
      "10  3D NAND flash are applied to deliver high tran...     electronics   \n",
      "11  Expand your PS4 gaming experience, Play anywhe...     electronics   \n",
      "12  21. 5 inches Full HD (1920 x 1080) widescreen ...     electronics   \n",
      "13  49 INCH SUPER ULTRAWIDE 32:9 CURVED GAMING MON...     electronics   \n",
      "\n",
      "                                                image  \\\n",
      "0   https://fakestoreapi.com/img/81fPKd-2AYL._AC_S...   \n",
      "4   https://fakestoreapi.com/img/71pWzhdJNwL._AC_U...   \n",
      "5   https://fakestoreapi.com/img/61sbMiUnoGL._AC_U...   \n",
      "9   https://fakestoreapi.com/img/61U7T1koQqL._AC_S...   \n",
      "10  https://fakestoreapi.com/img/71kWymZ+c+L._AC_S...   \n",
      "11  https://fakestoreapi.com/img/61mtL65D4cL._AC_S...   \n",
      "12  https://fakestoreapi.com/img/81QpkIctqPL._AC_S...   \n",
      "13  https://fakestoreapi.com/img/81Zt42ioCgL._AC_S...   \n",
      "\n",
      "                         rating  \n",
      "0   {'rate': 3.9, 'count': 120}  \n",
      "4   {'rate': 4.6, 'count': 400}  \n",
      "5    {'rate': 3.9, 'count': 70}  \n",
      "9   {'rate': 2.9, 'count': 470}  \n",
      "10  {'rate': 4.8, 'count': 319}  \n",
      "11  {'rate': 4.8, 'count': 400}  \n",
      "12  {'rate': 2.9, 'count': 250}  \n",
      "13  {'rate': 2.2, 'count': 140}  \n"
     ]
    }
   ],
   "source": [
    "# Show the expensive products\n",
    "print(\"Expensive products:\")\n",
    "print(expensive_products)"
   ]
  },
  {
   "cell_type": "code",
   "execution_count": 38,
   "id": "dd43290e",
   "metadata": {},
   "outputs": [],
   "source": [
    "# Create rows to insert into the Google Sheet\n",
    "rows_to_insert = []\n",
    "for _, product in expensive_products.head(N).iterrows():\n",
    "    concept = product['title']\n",
    "    quantity = 1\n",
    "    amount = product['price']\n",
    "    date = datetime.date.today().isoformat()\n",
    "    category = product['category']\n",
    "    rows_to_insert.append([concept, quantity, amount, date, category])"
   ]
  },
  {
   "cell_type": "code",
   "execution_count": 39,
   "id": "27c00836",
   "metadata": {},
   "outputs": [
    {
     "data": {
      "text/plain": [
       "{'tableRange': <GridRange 'datos.csv'!A1:E26>,\n",
       " 'updates': {'updatedRange': <GridRange 'datos.csv'!A27:E31>,\n",
       "  'updatedCells': 25,\n",
       "  'updatedColumns': 5,\n",
       "  'updatedRows': 5}}"
      ]
     },
     "execution_count": 39,
     "metadata": {},
     "output_type": "execute_result"
    }
   ],
   "source": [
    "wks.append_table(rows_to_insert, start='A1', dimension='ROWS', overwrite=False)"
   ]
  },
  {
   "cell_type": "code",
   "execution_count": 40,
   "id": "d103403e",
   "metadata": {},
   "outputs": [
    {
     "name": "stdout",
     "output_type": "stream",
     "text": [
      "                                              Concept  Quantity  Amount  \\\n",
      "0                                     Office Supplies         5   250.0   \n",
      "1                                     Coffee Purchase         3    90.0   \n",
      "2                                         Printer Ink         2   150.0   \n",
      "3                                       Internet Bill         1   600.0   \n",
      "4                                  Freelancer Payment         1  5000.0   \n",
      "5                                           Notebooks        10   120.0   \n",
      "6                                    Electricity Bill         1  1200.0   \n",
      "7                                    Software License         1  2000.0   \n",
      "8                                   Cleaning Products         8   320.0   \n",
      "9                                        Facebook Ads         1  1000.0   \n",
      "10                                     Employee Bonus         1  3000.0   \n",
      "11                               Travel Reimbursement         1   950.0   \n",
      "12                                         USB Drives         6   180.0   \n",
      "13                                             Snacks        15   375.0   \n",
      "14                                         Team Lunch         1   850.0   \n",
      "15                                    Air Conditioner         1  6500.0   \n",
      "16                                        Paper Reams        12   240.0   \n",
      "17                                  Zoom Subscription         1   500.0   \n",
      "18                                 Graphic Design Svc         1  2200.0   \n",
      "19                                 Replacement Chairs         4  1400.0   \n",
      "20                                               Juan         5     250   \n",
      "21                                               Juan         3      90   \n",
      "22                                               Juan         2     150   \n",
      "23                                               Juan         1     600   \n",
      "24                                               Juan         1    5000   \n",
      "25  Fjallraven - Foldsack No. 1 Backpack, Fits 15 ...         1  109,95   \n",
      "26  John Hardy Women's Legends Naga Gold & Silver ...         1     695   \n",
      "27                       Solid Gold Petite Micropave          1     168   \n",
      "28  SanDisk SSD PLUS 1TB Internal SSD - SATA III 6...         1     109   \n",
      "29  Silicon Power 256GB SSD 3D NAND A55 SLC Cache ...         1     109   \n",
      "\n",
      "          Date        Category  \n",
      "0   2025-07-01  Administration  \n",
      "1   2025-07-02          Pantry  \n",
      "2   2025-07-03  Administration  \n",
      "3   2025-07-04       Utilities  \n",
      "4   2025-07-05        Services  \n",
      "5   2025-07-06      Stationery  \n",
      "6   2025-07-07       Utilities  \n",
      "7   2025-07-08              IT  \n",
      "8   2025-07-09     Maintenance  \n",
      "9   2025-07-10       Marketing  \n",
      "10  2025-07-11         Payroll  \n",
      "11  2025-07-12              HR  \n",
      "12  2025-07-13              IT  \n",
      "13  2025-07-14          Pantry  \n",
      "14  2025-07-15              HR  \n",
      "15  2025-07-16     Maintenance  \n",
      "16  2025-07-17      Stationery  \n",
      "17  2025-07-18              IT  \n",
      "18  2025-07-19       Marketing  \n",
      "19  2025-07-20       Furniture  \n",
      "20  2025-07-01  Administration  \n",
      "21  2025-07-02          Pantry  \n",
      "22  2025-07-03  Administration  \n",
      "23  2025-07-04       Utilities  \n",
      "24  2025-07-05        Services  \n",
      "25  2025-07-20  men's clothing  \n",
      "26  2025-07-20        jewelery  \n",
      "27  2025-07-20        jewelery  \n",
      "28  2025-07-20     electronics  \n",
      "29  2025-07-20     electronics  \n"
     ]
    }
   ],
   "source": [
    "print(wks.get_as_df())"
   ]
  }
 ],
 "metadata": {
  "kernelspec": {
   "display_name": ".venv",
   "language": "python",
   "name": "python3"
  },
  "language_info": {
   "codemirror_mode": {
    "name": "ipython",
    "version": 3
   },
   "file_extension": ".py",
   "mimetype": "text/x-python",
   "name": "python",
   "nbconvert_exporter": "python",
   "pygments_lexer": "ipython3",
   "version": "3.12.7"
  }
 },
 "nbformat": 4,
 "nbformat_minor": 5
}
